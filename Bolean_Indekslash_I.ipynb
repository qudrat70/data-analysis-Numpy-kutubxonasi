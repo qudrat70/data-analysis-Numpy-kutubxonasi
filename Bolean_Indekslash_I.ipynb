{
  "nbformat": 4,
  "nbformat_minor": 0,
  "metadata": {
    "colab": {
      "name": "Bolean Indekslash I.ipynb",
      "provenance": [],
      "authorship_tag": "ABX9TyOM284DQIDLfTgk6yponH7+",
      "include_colab_link": true
    },
    "kernelspec": {
      "name": "python3",
      "display_name": "Python 3"
    },
    "language_info": {
      "name": "python"
    }
  },
  "cells": [
    {
      "cell_type": "markdown",
      "metadata": {
        "id": "view-in-github",
        "colab_type": "text"
      },
      "source": [
        "<a href=\"https://colab.research.google.com/github/qudrat70/data-analysis-Numpy-kutubxonasi/blob/main/Bolean_Indekslash_I.ipynb\" target=\"_parent\"><img src=\"https://colab.research.google.com/assets/colab-badge.svg\" alt=\"Open In Colab\"/></a>"
      ]
    },
    {
      "cell_type": "code",
      "execution_count": 2,
      "metadata": {
        "id": "mk0i0YdgoP9n"
      },
      "outputs": [],
      "source": [
        "import numpy as np"
      ]
    },
    {
      "cell_type": "code",
      "source": [
        "names = np.array(['Qudrat',\"Navro'z\",'Umrbek','Davron','Otabek','Shohruh','Elyor','Qudrat','Jasurbek',\"Navro'z\"])\n",
        "names"
      ],
      "metadata": {
        "colab": {
          "base_uri": "https://localhost:8080/"
        },
        "id": "2kaRKHs-ohTN",
        "outputId": "22916388-bdf3-467a-c5c0-de7d334d07ac"
      },
      "execution_count": 3,
      "outputs": [
        {
          "output_type": "execute_result",
          "data": {
            "text/plain": [
              "array(['Qudrat', \"Navro'z\", 'Umrbek', 'Davron', 'Otabek', 'Shohruh',\n",
              "       'Elyor', 'Qudrat', 'Jasurbek', \"Navro'z\"], dtype='<U8')"
            ]
          },
          "metadata": {},
          "execution_count": 3
        }
      ]
    },
    {
      "cell_type": "code",
      "source": [
        "data = np.random.randn(10,5)\n",
        "data"
      ],
      "metadata": {
        "colab": {
          "base_uri": "https://localhost:8080/"
        },
        "id": "ME19Gv3epQBy",
        "outputId": "559328d0-c053-4358-a524-deb778bed863"
      },
      "execution_count": 4,
      "outputs": [
        {
          "output_type": "execute_result",
          "data": {
            "text/plain": [
              "array([[-2.12568106,  0.62291643, -2.50381156, -0.19549846, -0.28194256],\n",
              "       [-1.90079971, -0.25527905, -0.65334879,  1.36572102, -0.26012187],\n",
              "       [-1.5241736 ,  0.03693181, -1.14294597, -1.00137935,  1.13778881],\n",
              "       [-1.37581456, -0.84283856,  1.07103035,  0.73818379,  1.89119481],\n",
              "       [ 0.83035596, -1.03681883, -0.79306272, -2.97342807, -0.32398078],\n",
              "       [ 1.18214396, -0.35815029,  0.90880317, -2.03087495, -0.09724448],\n",
              "       [ 1.72566286, -1.78735814, -0.36780511,  0.44765131, -1.04245359],\n",
              "       [-0.31817615, -0.12581493,  1.88440342, -0.40216682, -0.02271173],\n",
              "       [-1.18348875, -0.52542809,  1.07039811,  0.11162139,  0.73841143],\n",
              "       [-0.05343197, -0.54972217,  0.34241495, -1.91754623, -1.17070533]])"
            ]
          },
          "metadata": {},
          "execution_count": 4
        }
      ]
    },
    {
      "cell_type": "code",
      "source": [
        "names == \"Qudrat\""
      ],
      "metadata": {
        "colab": {
          "base_uri": "https://localhost:8080/"
        },
        "id": "Coa1PITIpcbz",
        "outputId": "a572c3f0-6e5e-47de-dab1-d608a4d8fcdc"
      },
      "execution_count": 6,
      "outputs": [
        {
          "output_type": "execute_result",
          "data": {
            "text/plain": [
              "array([ True, False, False, False, False, False, False,  True, False,\n",
              "       False])"
            ]
          },
          "metadata": {},
          "execution_count": 6
        }
      ]
    },
    {
      "cell_type": "code",
      "source": [
        "data[names==\"Qudrat\"]"
      ],
      "metadata": {
        "colab": {
          "base_uri": "https://localhost:8080/"
        },
        "id": "bdmJ_zijq15P",
        "outputId": "a3cf84ba-115b-4e9f-cdbc-a8a44d7dfa8b"
      },
      "execution_count": 8,
      "outputs": [
        {
          "output_type": "execute_result",
          "data": {
            "text/plain": [
              "array([[-2.12568106,  0.62291643, -2.50381156, -0.19549846, -0.28194256],\n",
              "       [-0.31817615, -0.12581493,  1.88440342, -0.40216682, -0.02271173]])"
            ]
          },
          "metadata": {},
          "execution_count": 8
        }
      ]
    },
    {
      "cell_type": "code",
      "source": [
        "data[names == \"Navro'z\"]"
      ],
      "metadata": {
        "colab": {
          "base_uri": "https://localhost:8080/"
        },
        "id": "2s_IBApQrIF8",
        "outputId": "2b4e5f9d-f453-4acf-8efc-fccfe1f84d7e"
      },
      "execution_count": 9,
      "outputs": [
        {
          "output_type": "execute_result",
          "data": {
            "text/plain": [
              "array([[-1.90079971, -0.25527905, -0.65334879,  1.36572102, -0.26012187],\n",
              "       [-0.05343197, -0.54972217,  0.34241495, -1.91754623, -1.17070533]])"
            ]
          },
          "metadata": {},
          "execution_count": 9
        }
      ]
    },
    {
      "cell_type": "code",
      "source": [
        "data[names != \"Umrbek\"]"
      ],
      "metadata": {
        "colab": {
          "base_uri": "https://localhost:8080/"
        },
        "id": "_TvNMq3wr5Gl",
        "outputId": "24ae8367-7a9b-4318-f41f-a01011be5df6"
      },
      "execution_count": 10,
      "outputs": [
        {
          "output_type": "execute_result",
          "data": {
            "text/plain": [
              "array([[-2.12568106,  0.62291643, -2.50381156, -0.19549846, -0.28194256],\n",
              "       [-1.90079971, -0.25527905, -0.65334879,  1.36572102, -0.26012187],\n",
              "       [-1.37581456, -0.84283856,  1.07103035,  0.73818379,  1.89119481],\n",
              "       [ 0.83035596, -1.03681883, -0.79306272, -2.97342807, -0.32398078],\n",
              "       [ 1.18214396, -0.35815029,  0.90880317, -2.03087495, -0.09724448],\n",
              "       [ 1.72566286, -1.78735814, -0.36780511,  0.44765131, -1.04245359],\n",
              "       [-0.31817615, -0.12581493,  1.88440342, -0.40216682, -0.02271173],\n",
              "       [-1.18348875, -0.52542809,  1.07039811,  0.11162139,  0.73841143],\n",
              "       [-0.05343197, -0.54972217,  0.34241495, -1.91754623, -1.17070533]])"
            ]
          },
          "metadata": {},
          "execution_count": 10
        }
      ]
    },
    {
      "cell_type": "code",
      "source": [
        "data[~(names == 'Umrbek')]"
      ],
      "metadata": {
        "colab": {
          "base_uri": "https://localhost:8080/"
        },
        "id": "rso4JqvgsAsn",
        "outputId": "98bd6ce8-2de8-4b7f-ca4d-e6d2c8375fed"
      },
      "execution_count": 11,
      "outputs": [
        {
          "output_type": "execute_result",
          "data": {
            "text/plain": [
              "array([[-2.12568106,  0.62291643, -2.50381156, -0.19549846, -0.28194256],\n",
              "       [-1.90079971, -0.25527905, -0.65334879,  1.36572102, -0.26012187],\n",
              "       [-1.37581456, -0.84283856,  1.07103035,  0.73818379,  1.89119481],\n",
              "       [ 0.83035596, -1.03681883, -0.79306272, -2.97342807, -0.32398078],\n",
              "       [ 1.18214396, -0.35815029,  0.90880317, -2.03087495, -0.09724448],\n",
              "       [ 1.72566286, -1.78735814, -0.36780511,  0.44765131, -1.04245359],\n",
              "       [-0.31817615, -0.12581493,  1.88440342, -0.40216682, -0.02271173],\n",
              "       [-1.18348875, -0.52542809,  1.07039811,  0.11162139,  0.73841143],\n",
              "       [-0.05343197, -0.54972217,  0.34241495, -1.91754623, -1.17070533]])"
            ]
          },
          "metadata": {},
          "execution_count": 11
        }
      ]
    },
    {
      "cell_type": "code",
      "source": [
        "print(names)\n",
        "print(data)"
      ],
      "metadata": {
        "colab": {
          "base_uri": "https://localhost:8080/"
        },
        "id": "t-xoRgaatApM",
        "outputId": "1809cc1a-08e4-4bb5-98f7-fd4702ca555c"
      },
      "execution_count": 12,
      "outputs": [
        {
          "output_type": "stream",
          "name": "stdout",
          "text": [
            "['Qudrat' \"Navro'z\" 'Umrbek' 'Davron' 'Otabek' 'Shohruh' 'Elyor' 'Qudrat'\n",
            " 'Jasurbek' \"Navro'z\"]\n",
            "[[-2.12568106  0.62291643 -2.50381156 -0.19549846 -0.28194256]\n",
            " [-1.90079971 -0.25527905 -0.65334879  1.36572102 -0.26012187]\n",
            " [-1.5241736   0.03693181 -1.14294597 -1.00137935  1.13778881]\n",
            " [-1.37581456 -0.84283856  1.07103035  0.73818379  1.89119481]\n",
            " [ 0.83035596 -1.03681883 -0.79306272 -2.97342807 -0.32398078]\n",
            " [ 1.18214396 -0.35815029  0.90880317 -2.03087495 -0.09724448]\n",
            " [ 1.72566286 -1.78735814 -0.36780511  0.44765131 -1.04245359]\n",
            " [-0.31817615 -0.12581493  1.88440342 -0.40216682 -0.02271173]\n",
            " [-1.18348875 -0.52542809  1.07039811  0.11162139  0.73841143]\n",
            " [-0.05343197 -0.54972217  0.34241495 -1.91754623 -1.17070533]]\n"
          ]
        }
      ]
    },
    {
      "cell_type": "code",
      "source": [
        "mask = (names == \"Davron\") | (names == \"Otabek\")\n",
        "mask"
      ],
      "metadata": {
        "colab": {
          "base_uri": "https://localhost:8080/"
        },
        "id": "jSmGECkItLsP",
        "outputId": "a7e74a25-eafc-45b5-dcc2-d2e527523bd5"
      },
      "execution_count": 14,
      "outputs": [
        {
          "output_type": "execute_result",
          "data": {
            "text/plain": [
              "array([False, False, False,  True,  True, False, False, False, False,\n",
              "       False])"
            ]
          },
          "metadata": {},
          "execution_count": 14
        }
      ]
    },
    {
      "cell_type": "code",
      "source": [
        "data[mask]"
      ],
      "metadata": {
        "colab": {
          "base_uri": "https://localhost:8080/"
        },
        "id": "Lvm4xHG9tjFx",
        "outputId": "301f9836-049d-4726-ea0a-185775c14b74"
      },
      "execution_count": 15,
      "outputs": [
        {
          "output_type": "execute_result",
          "data": {
            "text/plain": [
              "array([[-1.37581456, -0.84283856,  1.07103035,  0.73818379,  1.89119481],\n",
              "       [ 0.83035596, -1.03681883, -0.79306272, -2.97342807, -0.32398078]])"
            ]
          },
          "metadata": {},
          "execution_count": 15
        }
      ]
    },
    {
      "cell_type": "code",
      "source": [
        "data"
      ],
      "metadata": {
        "colab": {
          "base_uri": "https://localhost:8080/"
        },
        "id": "8r606ltUtrB0",
        "outputId": "a2b6593f-bbde-475d-f629-b44232247985"
      },
      "execution_count": 16,
      "outputs": [
        {
          "output_type": "execute_result",
          "data": {
            "text/plain": [
              "array([[-2.12568106,  0.62291643, -2.50381156, -0.19549846, -0.28194256],\n",
              "       [-1.90079971, -0.25527905, -0.65334879,  1.36572102, -0.26012187],\n",
              "       [-1.5241736 ,  0.03693181, -1.14294597, -1.00137935,  1.13778881],\n",
              "       [-1.37581456, -0.84283856,  1.07103035,  0.73818379,  1.89119481],\n",
              "       [ 0.83035596, -1.03681883, -0.79306272, -2.97342807, -0.32398078],\n",
              "       [ 1.18214396, -0.35815029,  0.90880317, -2.03087495, -0.09724448],\n",
              "       [ 1.72566286, -1.78735814, -0.36780511,  0.44765131, -1.04245359],\n",
              "       [-0.31817615, -0.12581493,  1.88440342, -0.40216682, -0.02271173],\n",
              "       [-1.18348875, -0.52542809,  1.07039811,  0.11162139,  0.73841143],\n",
              "       [-0.05343197, -0.54972217,  0.34241495, -1.91754623, -1.17070533]])"
            ]
          },
          "metadata": {},
          "execution_count": 16
        }
      ]
    },
    {
      "cell_type": "code",
      "source": [
        "data[data<0] = 0\n",
        "data"
      ],
      "metadata": {
        "colab": {
          "base_uri": "https://localhost:8080/"
        },
        "id": "i-SiCpiwtxZw",
        "outputId": "b5c76062-eec6-46d4-a1cd-fefde26c2562"
      },
      "execution_count": 21,
      "outputs": [
        {
          "output_type": "execute_result",
          "data": {
            "text/plain": [
              "array([[0.        , 0.62291643, 0.        , 0.        , 0.        ],\n",
              "       [0.        , 0.        , 0.        , 1.36572102, 0.        ],\n",
              "       [0.        , 0.03693181, 0.        , 0.        , 1.13778881],\n",
              "       [0.        , 0.        , 1.07103035, 0.73818379, 1.89119481],\n",
              "       [0.83035596, 0.        , 0.        , 0.        , 0.        ],\n",
              "       [1.18214396, 0.        , 0.90880317, 0.        , 0.        ],\n",
              "       [1.72566286, 0.        , 0.        , 0.44765131, 0.        ],\n",
              "       [0.        , 0.        , 1.88440342, 0.        , 0.        ],\n",
              "       [0.        , 0.        , 1.07039811, 0.11162139, 0.73841143],\n",
              "       [0.        , 0.        , 0.34241495, 0.        , 0.        ]])"
            ]
          },
          "metadata": {},
          "execution_count": 21
        }
      ]
    },
    {
      "cell_type": "code",
      "source": [
        ""
      ],
      "metadata": {
        "id": "jB66Vkvxt3iH"
      },
      "execution_count": null,
      "outputs": []
    }
  ]
}